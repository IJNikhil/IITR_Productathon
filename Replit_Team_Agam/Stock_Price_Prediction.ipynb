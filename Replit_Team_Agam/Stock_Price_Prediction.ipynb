{
 "cells": [
  {
   "cell_type": "code",
   "execution_count": 63,
   "id": "e1b0a270-59de-402c-954e-94e33332effd",
   "metadata": {},
   "outputs": [],
   "source": [
    "import tensorflow\n",
    "import numpy as np\n",
    "import pandas as pd \n",
    "import os\n",
    "import matplotlib.pyplot as plt\n",
    "import warnings\n",
    "warnings.simplefilter(\"ignore\")\n",
    "from matplotlib.pylab import rcParams\n",
    "rcParams['figure.figsize'] = 15, 6"
   ]
  },
  {
   "cell_type": "code",
   "execution_count": 64,
   "id": "b1477d5f-7523-4c02-842a-bb2471216074",
   "metadata": {},
   "outputs": [
    {
     "data": {
      "text/plain": [
       "'C:\\\\Users\\\\vijay\\\\Downloads\\\\Temp\\\\Projects\\\\Stock-Predection\\\\Stock'"
      ]
     },
     "execution_count": 64,
     "metadata": {},
     "output_type": "execute_result"
    }
   ],
   "source": [
    "os.getcwd()"
   ]
  },
  {
   "cell_type": "code",
   "execution_count": 65,
   "id": "7babb779-fc4d-4e78-a8cb-516c9fb80fda",
   "metadata": {},
   "outputs": [],
   "source": [
    "df = pd.read_csv(\"WIPRO.csv\", header = 0)"
   ]
  },
  {
   "cell_type": "code",
   "execution_count": 66,
   "id": "c6e4432d-f3ee-4619-ad3e-c6a22cdddbf3",
   "metadata": {},
   "outputs": [
    {
     "data": {
      "text/html": [
       "<div>\n",
       "<style scoped>\n",
       "    .dataframe tbody tr th:only-of-type {\n",
       "        vertical-align: middle;\n",
       "    }\n",
       "\n",
       "    .dataframe tbody tr th {\n",
       "        vertical-align: top;\n",
       "    }\n",
       "\n",
       "    .dataframe thead th {\n",
       "        text-align: right;\n",
       "    }\n",
       "</style>\n",
       "<table border=\"1\" class=\"dataframe\">\n",
       "  <thead>\n",
       "    <tr style=\"text-align: right;\">\n",
       "      <th></th>\n",
       "      <th>Date</th>\n",
       "      <th>Symbol</th>\n",
       "      <th>Open</th>\n",
       "      <th>High</th>\n",
       "      <th>Low</th>\n",
       "      <th>Close</th>\n",
       "      <th>Volume</th>\n",
       "    </tr>\n",
       "  </thead>\n",
       "  <tbody>\n",
       "    <tr>\n",
       "      <th>0</th>\n",
       "      <td>03-01-2000</td>\n",
       "      <td>WIPRO</td>\n",
       "      <td>2724.00</td>\n",
       "      <td>2724.20</td>\n",
       "      <td>2724.00</td>\n",
       "      <td>2724.20</td>\n",
       "      <td>1599</td>\n",
       "    </tr>\n",
       "    <tr>\n",
       "      <th>1</th>\n",
       "      <td>04-01-2000</td>\n",
       "      <td>WIPRO</td>\n",
       "      <td>2942.15</td>\n",
       "      <td>2942.15</td>\n",
       "      <td>2942.15</td>\n",
       "      <td>2942.15</td>\n",
       "      <td>4392</td>\n",
       "    </tr>\n",
       "    <tr>\n",
       "      <th>2</th>\n",
       "      <td>05-01-2000</td>\n",
       "      <td>WIPRO</td>\n",
       "      <td>2942.15</td>\n",
       "      <td>3177.55</td>\n",
       "      <td>2715.00</td>\n",
       "      <td>2990.10</td>\n",
       "      <td>132297</td>\n",
       "    </tr>\n",
       "    <tr>\n",
       "      <th>3</th>\n",
       "      <td>06-01-2000</td>\n",
       "      <td>WIPRO</td>\n",
       "      <td>3144.70</td>\n",
       "      <td>3183.00</td>\n",
       "      <td>2790.00</td>\n",
       "      <td>2932.25</td>\n",
       "      <td>72840</td>\n",
       "    </tr>\n",
       "    <tr>\n",
       "      <th>4</th>\n",
       "      <td>07-01-2000</td>\n",
       "      <td>WIPRO</td>\n",
       "      <td>2751.00</td>\n",
       "      <td>2751.00</td>\n",
       "      <td>2697.70</td>\n",
       "      <td>2697.70</td>\n",
       "      <td>10110</td>\n",
       "    </tr>\n",
       "    <tr>\n",
       "      <th>...</th>\n",
       "      <td>...</td>\n",
       "      <td>...</td>\n",
       "      <td>...</td>\n",
       "      <td>...</td>\n",
       "      <td>...</td>\n",
       "      <td>...</td>\n",
       "      <td>...</td>\n",
       "    </tr>\n",
       "    <tr>\n",
       "      <th>5301</th>\n",
       "      <td>26-04-2021</td>\n",
       "      <td>WIPRO</td>\n",
       "      <td>479.40</td>\n",
       "      <td>483.85</td>\n",
       "      <td>477.00</td>\n",
       "      <td>480.30</td>\n",
       "      <td>9314644</td>\n",
       "    </tr>\n",
       "    <tr>\n",
       "      <th>5302</th>\n",
       "      <td>27-04-2021</td>\n",
       "      <td>WIPRO</td>\n",
       "      <td>481.40</td>\n",
       "      <td>487.00</td>\n",
       "      <td>481.00</td>\n",
       "      <td>485.05</td>\n",
       "      <td>7209467</td>\n",
       "    </tr>\n",
       "    <tr>\n",
       "      <th>5303</th>\n",
       "      <td>28-04-2021</td>\n",
       "      <td>WIPRO</td>\n",
       "      <td>485.85</td>\n",
       "      <td>493.20</td>\n",
       "      <td>481.25</td>\n",
       "      <td>489.30</td>\n",
       "      <td>9615534</td>\n",
       "    </tr>\n",
       "    <tr>\n",
       "      <th>5304</th>\n",
       "      <td>29-04-2021</td>\n",
       "      <td>WIPRO</td>\n",
       "      <td>492.70</td>\n",
       "      <td>492.80</td>\n",
       "      <td>485.70</td>\n",
       "      <td>489.85</td>\n",
       "      <td>7641133</td>\n",
       "    </tr>\n",
       "    <tr>\n",
       "      <th>5305</th>\n",
       "      <td>30-04-2021</td>\n",
       "      <td>WIPRO</td>\n",
       "      <td>491.50</td>\n",
       "      <td>511.80</td>\n",
       "      <td>489.30</td>\n",
       "      <td>492.75</td>\n",
       "      <td>29115571</td>\n",
       "    </tr>\n",
       "  </tbody>\n",
       "</table>\n",
       "<p>5306 rows × 7 columns</p>\n",
       "</div>"
      ],
      "text/plain": [
       "            Date Symbol     Open     High      Low    Close    Volume\n",
       "0     03-01-2000  WIPRO  2724.00  2724.20  2724.00  2724.20      1599\n",
       "1     04-01-2000  WIPRO  2942.15  2942.15  2942.15  2942.15      4392\n",
       "2     05-01-2000  WIPRO  2942.15  3177.55  2715.00  2990.10    132297\n",
       "3     06-01-2000  WIPRO  3144.70  3183.00  2790.00  2932.25     72840\n",
       "4     07-01-2000  WIPRO  2751.00  2751.00  2697.70  2697.70     10110\n",
       "...          ...    ...      ...      ...      ...      ...       ...\n",
       "5301  26-04-2021  WIPRO   479.40   483.85   477.00   480.30   9314644\n",
       "5302  27-04-2021  WIPRO   481.40   487.00   481.00   485.05   7209467\n",
       "5303  28-04-2021  WIPRO   485.85   493.20   481.25   489.30   9615534\n",
       "5304  29-04-2021  WIPRO   492.70   492.80   485.70   489.85   7641133\n",
       "5305  30-04-2021  WIPRO   491.50   511.80   489.30   492.75  29115571\n",
       "\n",
       "[5306 rows x 7 columns]"
      ]
     },
     "execution_count": 66,
     "metadata": {},
     "output_type": "execute_result"
    }
   ],
   "source": [
    "df"
   ]
  },
  {
   "cell_type": "code",
   "execution_count": 67,
   "id": "a0359782-7e44-49dc-a4aa-6351ab10c0c8",
   "metadata": {},
   "outputs": [
    {
     "data": {
      "text/plain": [
       "(5306, 7)"
      ]
     },
     "execution_count": 67,
     "metadata": {},
     "output_type": "execute_result"
    }
   ],
   "source": [
    "df.shape"
   ]
  },
  {
   "cell_type": "code",
   "execution_count": 69,
   "id": "2c88e5b5-f11c-437e-a7c0-8572297cbecc",
   "metadata": {},
   "outputs": [
    {
     "data": {
      "text/plain": [
       "Symbol\n",
       "WIPRO    5306\n",
       "Name: count, dtype: int64"
      ]
     },
     "execution_count": 69,
     "metadata": {},
     "output_type": "execute_result"
    }
   ],
   "source": [
    "df.Symbol.value_counts()"
   ]
  },
  {
   "cell_type": "code",
   "execution_count": 70,
   "id": "b1ab9ad9-3d18-4bcd-934d-3d49690a21c0",
   "metadata": {},
   "outputs": [
    {
     "data": {
      "text/plain": [
       "Date\n",
       "03-01-2000    1\n",
       "10-03-2014    1\n",
       "06-03-2014    1\n",
       "05-03-2014    1\n",
       "04-03-2014    1\n",
       "             ..\n",
       "16-01-2007    1\n",
       "15-01-2007    1\n",
       "12-01-2007    1\n",
       "11-01-2007    1\n",
       "30-04-2021    1\n",
       "Name: count, Length: 5306, dtype: int64"
      ]
     },
     "execution_count": 70,
     "metadata": {},
     "output_type": "execute_result"
    }
   ],
   "source": [
    "df.Date.value_counts()"
   ]
  },
  {
   "cell_type": "code",
   "execution_count": 71,
   "id": "ece21fd0-814f-40ad-999c-b217daac5511",
   "metadata": {},
   "outputs": [
    {
     "data": {
      "text/plain": [
       "array(['WIPRO'], dtype=object)"
      ]
     },
     "execution_count": 71,
     "metadata": {},
     "output_type": "execute_result"
    }
   ],
   "source": [
    "df.Symbol.unique()[0:20]"
   ]
  },
  {
   "cell_type": "code",
   "execution_count": 72,
   "id": "81117602-a074-4ff2-8cd6-ea6117012afa",
   "metadata": {},
   "outputs": [
    {
     "data": {
      "text/plain": [
       "5306"
      ]
     },
     "execution_count": 72,
     "metadata": {},
     "output_type": "execute_result"
    }
   ],
   "source": [
    "len(df.Symbol.values)"
   ]
  },
  {
   "cell_type": "code",
   "execution_count": 73,
   "id": "0ac62962-571f-440f-aaf3-e94fbe226878",
   "metadata": {},
   "outputs": [
    {
     "name": "stdout",
     "output_type": "stream",
     "text": [
      "<class 'pandas.core.frame.DataFrame'>\n",
      "RangeIndex: 5306 entries, 0 to 5305\n",
      "Data columns (total 7 columns):\n",
      " #   Column  Non-Null Count  Dtype  \n",
      "---  ------  --------------  -----  \n",
      " 0   Date    5306 non-null   object \n",
      " 1   Symbol  5306 non-null   object \n",
      " 2   Open    5306 non-null   float64\n",
      " 3   High    5306 non-null   float64\n",
      " 4   Low     5306 non-null   float64\n",
      " 5   Close   5306 non-null   float64\n",
      " 6   Volume  5306 non-null   int64  \n",
      "dtypes: float64(4), int64(1), object(2)\n",
      "memory usage: 290.3+ KB\n"
     ]
    }
   ],
   "source": [
    "df.info()"
   ]
  },
  {
   "cell_type": "code",
   "execution_count": 74,
   "id": "56cc3c49-a96e-4e67-b1bf-d0795451f6a4",
   "metadata": {},
   "outputs": [
    {
     "data": {
      "text/html": [
       "<div>\n",
       "<style scoped>\n",
       "    .dataframe tbody tr th:only-of-type {\n",
       "        vertical-align: middle;\n",
       "    }\n",
       "\n",
       "    .dataframe tbody tr th {\n",
       "        vertical-align: top;\n",
       "    }\n",
       "\n",
       "    .dataframe thead th {\n",
       "        text-align: right;\n",
       "    }\n",
       "</style>\n",
       "<table border=\"1\" class=\"dataframe\">\n",
       "  <thead>\n",
       "    <tr style=\"text-align: right;\">\n",
       "      <th></th>\n",
       "      <th>Open</th>\n",
       "      <th>High</th>\n",
       "      <th>Low</th>\n",
       "      <th>Close</th>\n",
       "      <th>Volume</th>\n",
       "    </tr>\n",
       "  </thead>\n",
       "  <tbody>\n",
       "    <tr>\n",
       "      <th>count</th>\n",
       "      <td>5306.000000</td>\n",
       "      <td>5306.000000</td>\n",
       "      <td>5306.000000</td>\n",
       "      <td>5306.000000</td>\n",
       "      <td>5.306000e+03</td>\n",
       "    </tr>\n",
       "    <tr>\n",
       "      <th>mean</th>\n",
       "      <td>756.799981</td>\n",
       "      <td>772.478364</td>\n",
       "      <td>738.150886</td>\n",
       "      <td>754.474783</td>\n",
       "      <td>2.236123e+06</td>\n",
       "    </tr>\n",
       "    <tr>\n",
       "      <th>std</th>\n",
       "      <td>803.371567</td>\n",
       "      <td>825.259513</td>\n",
       "      <td>768.613272</td>\n",
       "      <td>794.159260</td>\n",
       "      <td>4.827183e+06</td>\n",
       "    </tr>\n",
       "    <tr>\n",
       "      <th>min</th>\n",
       "      <td>163.100000</td>\n",
       "      <td>171.350000</td>\n",
       "      <td>159.400000</td>\n",
       "      <td>162.350000</td>\n",
       "      <td>1.003000e+03</td>\n",
       "    </tr>\n",
       "    <tr>\n",
       "      <th>25%</th>\n",
       "      <td>380.575000</td>\n",
       "      <td>386.900000</td>\n",
       "      <td>374.475000</td>\n",
       "      <td>380.525000</td>\n",
       "      <td>6.937025e+05</td>\n",
       "    </tr>\n",
       "    <tr>\n",
       "      <th>50%</th>\n",
       "      <td>504.000000</td>\n",
       "      <td>510.800000</td>\n",
       "      <td>494.500000</td>\n",
       "      <td>503.250000</td>\n",
       "      <td>1.152270e+06</td>\n",
       "    </tr>\n",
       "    <tr>\n",
       "      <th>75%</th>\n",
       "      <td>680.000000</td>\n",
       "      <td>690.887500</td>\n",
       "      <td>670.812500</td>\n",
       "      <td>678.687500</td>\n",
       "      <td>2.004576e+06</td>\n",
       "    </tr>\n",
       "    <tr>\n",
       "      <th>max</th>\n",
       "      <td>10350.000000</td>\n",
       "      <td>10350.000000</td>\n",
       "      <td>8928.350000</td>\n",
       "      <td>9587.450000</td>\n",
       "      <td>1.303677e+08</td>\n",
       "    </tr>\n",
       "  </tbody>\n",
       "</table>\n",
       "</div>"
      ],
      "text/plain": [
       "               Open          High          Low        Close        Volume\n",
       "count   5306.000000   5306.000000  5306.000000  5306.000000  5.306000e+03\n",
       "mean     756.799981    772.478364   738.150886   754.474783  2.236123e+06\n",
       "std      803.371567    825.259513   768.613272   794.159260  4.827183e+06\n",
       "min      163.100000    171.350000   159.400000   162.350000  1.003000e+03\n",
       "25%      380.575000    386.900000   374.475000   380.525000  6.937025e+05\n",
       "50%      504.000000    510.800000   494.500000   503.250000  1.152270e+06\n",
       "75%      680.000000    690.887500   670.812500   678.687500  2.004576e+06\n",
       "max    10350.000000  10350.000000  8928.350000  9587.450000  1.303677e+08"
      ]
     },
     "execution_count": 74,
     "metadata": {},
     "output_type": "execute_result"
    }
   ],
   "source": [
    "df.describe()"
   ]
  },
  {
   "cell_type": "code",
   "execution_count": 75,
   "id": "486c9a99-8ec9-4915-92e8-919085f72768",
   "metadata": {},
   "outputs": [
    {
     "data": {
      "text/plain": [
       "Date      0\n",
       "Symbol    0\n",
       "Open      0\n",
       "High      0\n",
       "Low       0\n",
       "Close     0\n",
       "Volume    0\n",
       "dtype: int64"
      ]
     },
     "execution_count": 75,
     "metadata": {},
     "output_type": "execute_result"
    }
   ],
   "source": [
    "df.isnull().sum()"
   ]
  },
  {
   "cell_type": "code",
   "execution_count": 76,
   "id": "dc21d885-cf9d-4795-89a4-09d4bc1ce5d3",
   "metadata": {},
   "outputs": [
    {
     "data": {
      "text/plain": [
       "0"
      ]
     },
     "execution_count": 76,
     "metadata": {},
     "output_type": "execute_result"
    }
   ],
   "source": [
    "df.duplicated().sum()"
   ]
  },
  {
   "cell_type": "code",
   "execution_count": 77,
   "id": "88e7d7cf-740e-472f-85bd-d51d2084cfcb",
   "metadata": {},
   "outputs": [
    {
     "data": {
      "text/plain": [
       "array([2724.2 , 2942.15, 2990.1 , ...,  489.3 ,  489.85,  492.75])"
      ]
     },
     "execution_count": 77,
     "metadata": {},
     "output_type": "execute_result"
    }
   ],
   "source": [
    "stocks = np.array(df[df.Symbol.isin(['WIPRO'])].Close)\n",
    "stocks"
   ]
  },
  {
   "cell_type": "code",
   "execution_count": 78,
   "id": "4af299b2-6ce2-4f60-82dd-f2693948a0f1",
   "metadata": {},
   "outputs": [
    {
     "data": {
      "text/plain": [
       "(5306,)"
      ]
     },
     "execution_count": 78,
     "metadata": {},
     "output_type": "execute_result"
    }
   ],
   "source": [
    "stocks.shape"
   ]
  },
  {
   "cell_type": "code",
   "execution_count": 79,
   "id": "c236aea6-a5b9-40ac-a4f4-a97de4065912",
   "metadata": {},
   "outputs": [
    {
     "data": {
      "text/plain": [
       "(5306, 1)"
      ]
     },
     "metadata": {},
     "output_type": "display_data"
    },
    {
     "data": {
      "text/plain": [
       "array([[2724.2 ],\n",
       "       [2942.15],\n",
       "       [2990.1 ],\n",
       "       ...,\n",
       "       [ 489.3 ],\n",
       "       [ 489.85],\n",
       "       [ 492.75]])"
      ]
     },
     "execution_count": 79,
     "metadata": {},
     "output_type": "execute_result"
    }
   ],
   "source": [
    "stocks = stocks.reshape(len(stocks), 1)\n",
    "display(stocks.shape)\n",
    "stocks"
   ]
  },
  {
   "cell_type": "code",
   "execution_count": 80,
   "id": "d40630ef-3a12-484c-abbc-f3f3887d519a",
   "metadata": {},
   "outputs": [
    {
     "data": {
      "text/plain": [
       "array([[2.7181144 ],\n",
       "       [2.94935863],\n",
       "       [3.00023342],\n",
       "       ...,\n",
       "       [0.34689287],\n",
       "       [0.34747642],\n",
       "       [0.35055331]])"
      ]
     },
     "execution_count": 80,
     "metadata": {},
     "output_type": "execute_result"
    }
   ],
   "source": [
    "from sklearn.preprocessing import MinMaxScaler\n",
    "scaler = MinMaxScaler(feature_range = (0, 10))\n",
    "\n",
    "stocks = scaler.fit_transform(stocks)\n",
    "stocks"
   ]
  },
  {
   "cell_type": "code",
   "execution_count": 81,
   "id": "c6ac400e-e77a-47d5-aec8-77c551f39f52",
   "metadata": {},
   "outputs": [
    {
     "data": {
      "text/plain": [
       "(5306, 1)"
      ]
     },
     "execution_count": 81,
     "metadata": {},
     "output_type": "execute_result"
    }
   ],
   "source": [
    "stocks.shape"
   ]
  },
  {
   "cell_type": "code",
   "execution_count": 82,
   "id": "8149af1b-9f98-420e-86b9-b4a87708b2cf",
   "metadata": {},
   "outputs": [
    {
     "data": {
      "text/plain": [
       "4244"
      ]
     },
     "execution_count": 82,
     "metadata": {},
     "output_type": "execute_result"
    }
   ],
   "source": [
    "train = int(len(stocks) * 0.80)\n",
    "train"
   ]
  },
  {
   "cell_type": "code",
   "execution_count": 83,
   "id": "5dc78216-ddfa-4ae4-8c8b-576b6889fd0d",
   "metadata": {},
   "outputs": [
    {
     "data": {
      "text/plain": [
       "1062"
      ]
     },
     "execution_count": 83,
     "metadata": {},
     "output_type": "execute_result"
    }
   ],
   "source": [
    "test = len(stocks) - train\n",
    "test"
   ]
  },
  {
   "cell_type": "code",
   "execution_count": 84,
   "id": "0715fd78-8374-461c-a37a-7876c51fa1f3",
   "metadata": {},
   "outputs": [
    {
     "data": {
      "text/plain": [
       "(4244, 1)"
      ]
     },
     "metadata": {},
     "output_type": "display_data"
    },
    {
     "data": {
      "text/plain": [
       "array([[2.7181144 ],\n",
       "       [2.94935863],\n",
       "       [3.00023342],\n",
       "       ...,\n",
       "       [0.33331211],\n",
       "       [0.33299381],\n",
       "       [0.34042079]])"
      ]
     },
     "execution_count": 84,
     "metadata": {},
     "output_type": "execute_result"
    }
   ],
   "source": [
    "train = stocks[0:train]\n",
    "display(train.shape)\n",
    "train"
   ]
  },
  {
   "cell_type": "code",
   "execution_count": 85,
   "id": "2a07c40c-b0dc-4eca-a347-3d4f71fc8e3b",
   "metadata": {},
   "outputs": [
    {
     "data": {
      "text/plain": [
       "(1062, 1)"
      ]
     },
     "metadata": {},
     "output_type": "display_data"
    },
    {
     "data": {
      "text/plain": [
       "array([[0.34195924],\n",
       "       [0.34206534],\n",
       "       [0.33957199],\n",
       "       ...,\n",
       "       [0.34689287],\n",
       "       [0.34747642],\n",
       "       [0.35055331]])"
      ]
     },
     "execution_count": 85,
     "metadata": {},
     "output_type": "execute_result"
    }
   ],
   "source": [
    "test = stocks[len(train) : ]\n",
    "display(test.shape)\n",
    "test"
   ]
  },
  {
   "cell_type": "code",
   "execution_count": 86,
   "id": "8f57aa04-038b-4007-8ce6-855e732fa8dc",
   "metadata": {},
   "outputs": [],
   "source": [
    "def process_data(data, n_features):\n",
    "    dataX, dataY = [], []\n",
    "    for i in range(len(data) - n_features):\n",
    "        a = data[i : (i + n_features), 0]\n",
    "        dataX.append(a)\n",
    "        dataY.append(data[i + n_features, 0])\n",
    "    return np.array(dataX), np.array(dataY)"
   ]
  },
  {
   "cell_type": "code",
   "execution_count": 87,
   "id": "d94a3339-995f-4117-97ae-425f695fa18f",
   "metadata": {},
   "outputs": [
    {
     "name": "stdout",
     "output_type": "stream",
     "text": [
      "(4242, 2) (4242,)\n"
     ]
    }
   ],
   "source": [
    "n_features = 2\n",
    "trainX, trainY = process_data(train, n_features)\n",
    "print(trainX.shape, trainY.shape)"
   ]
  },
  {
   "cell_type": "code",
   "execution_count": 88,
   "id": "e088c93c-3618-40cf-9ab0-c38c10a0d488",
   "metadata": {},
   "outputs": [
    {
     "name": "stdout",
     "output_type": "stream",
     "text": [
      "(1060, 2) (1060,)\n"
     ]
    }
   ],
   "source": [
    "testX, testY = process_data(test, n_features)\n",
    "print(testX.shape, testY.shape)"
   ]
  },
  {
   "cell_type": "code",
   "execution_count": 89,
   "id": "dfdae1b5-6550-430f-9fd3-7247e191683b",
   "metadata": {},
   "outputs": [
    {
     "name": "stdout",
     "output_type": "stream",
     "text": [
      "(5304, 2) (5304,)\n"
     ]
    }
   ],
   "source": [
    "stocksX, stocksY = process_data(stocks, n_features)\n",
    "print(stocksX.shape, stocksY.shape)"
   ]
  },
  {
   "cell_type": "code",
   "execution_count": 90,
   "id": "902913f8-ec91-4ce7-9541-687660a9957c",
   "metadata": {},
   "outputs": [
    {
     "data": {
      "text/plain": [
       "array([[[2.7181144 , 2.94935863]],\n",
       "\n",
       "       [[2.94935863, 3.00023342]],\n",
       "\n",
       "       [[3.00023342, 2.93885476]],\n",
       "\n",
       "       ...,\n",
       "\n",
       "       [[0.32636259, 0.32853763]],\n",
       "\n",
       "       [[0.32853763, 0.33331211]],\n",
       "\n",
       "       [[0.33331211, 0.33299381]]])"
      ]
     },
     "execution_count": 90,
     "metadata": {},
     "output_type": "execute_result"
    }
   ],
   "source": [
    "trainX = trainX.reshape(trainX.shape[0], 1, trainX.shape[1])\n",
    "trainX"
   ]
  },
  {
   "cell_type": "code",
   "execution_count": 91,
   "id": "2771c497-dd31-4aca-aec1-c9f860c34cf9",
   "metadata": {},
   "outputs": [
    {
     "data": {
      "text/plain": [
       "(4242, 1, 2)"
      ]
     },
     "execution_count": 91,
     "metadata": {},
     "output_type": "execute_result"
    }
   ],
   "source": [
    "trainX.shape"
   ]
  },
  {
   "cell_type": "code",
   "execution_count": 92,
   "id": "f24cad55-54e0-4dff-b575-182e2be7dab8",
   "metadata": {},
   "outputs": [
    {
     "data": {
      "text/plain": [
       "(1060, 1, 2)"
      ]
     },
     "execution_count": 92,
     "metadata": {},
     "output_type": "execute_result"
    }
   ],
   "source": [
    "testX = testX.reshape(testX.shape[0], 1, testX.shape[1])\n",
    "stocksX = stocksX.reshape(stocksX.shape[0], 1, stocksX.shape[1])\n",
    "testX.shape"
   ]
  },
  {
   "cell_type": "code",
   "execution_count": 93,
   "id": "a35df1dc-3eb4-4f5b-9223-50f33c2a4bc8",
   "metadata": {},
   "outputs": [
    {
     "data": {
      "text/plain": [
       "(5306, 1)"
      ]
     },
     "execution_count": 93,
     "metadata": {},
     "output_type": "execute_result"
    }
   ],
   "source": [
    "stocks.shape"
   ]
  },
  {
   "cell_type": "code",
   "execution_count": null,
   "id": "ba948830-0fde-4f6e-b8bc-9ce5acae16f9",
   "metadata": {},
   "outputs": [],
   "source": []
  },
  {
   "cell_type": "code",
   "execution_count": 94,
   "id": "b6e3db31-1f4b-41c2-bccd-6be2e931d407",
   "metadata": {},
   "outputs": [],
   "source": [
    "import math\n",
    "from keras.models import Sequential\n",
    "from keras.layers import Dense, BatchNormalization, Dropout, Activation\n",
    "from keras.layers import LSTM, GRU\n",
    "from sklearn.preprocessing import MinMaxScaler\n",
    "from sklearn.metrics import mean_squared_error\n",
    "from tensorflow.keras.optimizers import Adam, SGD, RMSprop"
   ]
  },
  {
   "cell_type": "code",
   "execution_count": 95,
   "id": "a8bc36a2-136e-42b3-8c30-d6e7e389ea96",
   "metadata": {},
   "outputs": [],
   "source": [
    "filepath = \"stock_weights1.hdf5\"\n",
    "from keras.callbacks import ReduceLROnPlateau, ModelCheckpoint"
   ]
  },
  {
   "cell_type": "code",
   "execution_count": 96,
   "id": "e3324c60-d057-4b75-9e3d-72c9a02e2d65",
   "metadata": {},
   "outputs": [],
   "source": [
    "lr_reduce = ReduceLROnPlateau(monitor = 'val_loss', factor = 0.1, patience = 5, min_lr = 0.00001, verbose = 1)\n",
    "checkpoint = ModelCheckpoint(filepath, monitor = 'val_loss', verbose = 1, save_best_only = True, mode = 'max')"
   ]
  },
  {
   "cell_type": "code",
   "execution_count": 97,
   "id": "f3ccfe5e-9ba9-4aa3-8549-266d47f8e57b",
   "metadata": {},
   "outputs": [],
   "source": [
    "model = Sequential()\n",
    "model.add(GRU(256, input_shape = (1, n_features), return_sequences = True))\n",
    "model.add(Dropout(0.4))\n",
    "model.add(LSTM(256, return_sequences = True))\n",
    "model.add(Dropout(0.4))\n",
    "model.add(LSTM(256))\n",
    "model.add(Dropout(0.4))\n",
    "model.add(Dense(64, activation = 'relu'))\n",
    "model.add(Dense(1))"
   ]
  },
  {
   "cell_type": "code",
   "execution_count": 98,
   "id": "a9e177b7-9bdc-4d5e-9594-5c10fa56867d",
   "metadata": {},
   "outputs": [
    {
     "name": "stdout",
     "output_type": "stream",
     "text": [
      "Model: \"sequential_2\"\n",
      "_________________________________________________________________\n",
      " Layer (type)                Output Shape              Param #   \n",
      "=================================================================\n",
      " gru_2 (GRU)                 (None, 1, 256)            199680    \n",
      "                                                                 \n",
      " dropout_6 (Dropout)         (None, 1, 256)            0         \n",
      "                                                                 \n",
      " lstm_4 (LSTM)               (None, 1, 256)            525312    \n",
      "                                                                 \n",
      " dropout_7 (Dropout)         (None, 1, 256)            0         \n",
      "                                                                 \n",
      " lstm_5 (LSTM)               (None, 256)               525312    \n",
      "                                                                 \n",
      " dropout_8 (Dropout)         (None, 256)               0         \n",
      "                                                                 \n",
      " dense_4 (Dense)             (None, 64)                16448     \n",
      "                                                                 \n",
      " dense_5 (Dense)             (None, 1)                 65        \n",
      "                                                                 \n",
      "=================================================================\n",
      "Total params: 1,266,817\n",
      "Trainable params: 1,266,817\n",
      "Non-trainable params: 0\n",
      "_________________________________________________________________\n"
     ]
    }
   ],
   "source": [
    "model.summary()"
   ]
  },
  {
   "cell_type": "code",
   "execution_count": 99,
   "id": "1bf118b8-ae31-492e-98e9-f8fddc64f9e9",
   "metadata": {},
   "outputs": [],
   "source": [
    "model.compile(loss = 'mean_squared_error', optimizer = Adam(lr = 0.0001), metrics = ['mean_squared_error'])"
   ]
  },
  {
   "cell_type": "code",
   "execution_count": 100,
   "id": "044bc960-8c18-4cdf-94bc-d42aba535280",
   "metadata": {},
   "outputs": [
    {
     "name": "stdout",
     "output_type": "stream",
     "text": [
      "Epoch 1/64\n",
      "65/67 [============================>.] - ETA: 0s - loss: 1.2369 - mean_squared_error: 1.2369\n",
      "Epoch 1: val_loss improved from -inf to 0.00703, saving model to stock_weights1.hdf5\n",
      "67/67 [==============================] - 20s 83ms/step - loss: 1.2232 - mean_squared_error: 1.2232 - val_loss: 0.0070 - val_mean_squared_error: 0.0070 - lr: 1.0000e-04\n",
      "Epoch 2/64\n",
      "64/67 [===========================>..] - ETA: 0s - loss: 0.3651 - mean_squared_error: 0.3651\n",
      "Epoch 2: val_loss improved from 0.00703 to 0.05859, saving model to stock_weights1.hdf5\n",
      "67/67 [==============================] - 2s 32ms/step - loss: 0.3542 - mean_squared_error: 0.3542 - val_loss: 0.0586 - val_mean_squared_error: 0.0586 - lr: 1.0000e-04\n",
      "Epoch 3/64\n",
      "66/67 [============================>.] - ETA: 0s - loss: 0.0423 - mean_squared_error: 0.0423\n",
      "Epoch 3: val_loss did not improve from 0.05859\n",
      "67/67 [==============================] - 2s 23ms/step - loss: 0.0422 - mean_squared_error: 0.0422 - val_loss: 0.0202 - val_mean_squared_error: 0.0202 - lr: 1.0000e-04\n",
      "Epoch 4/64\n",
      "65/67 [============================>.] - ETA: 0s - loss: 0.0263 - mean_squared_error: 0.0263\n",
      "Epoch 4: val_loss did not improve from 0.05859\n",
      "67/67 [==============================] - 2s 25ms/step - loss: 0.0263 - mean_squared_error: 0.0263 - val_loss: 0.0084 - val_mean_squared_error: 0.0084 - lr: 1.0000e-04\n",
      "Epoch 5/64\n",
      "67/67 [==============================] - ETA: 0s - loss: 0.0279 - mean_squared_error: 0.0279\n",
      "Epoch 5: val_loss did not improve from 0.05859\n",
      "67/67 [==============================] - 2s 25ms/step - loss: 0.0279 - mean_squared_error: 0.0279 - val_loss: 0.0072 - val_mean_squared_error: 0.0072 - lr: 1.0000e-04\n",
      "Epoch 6/64\n",
      "66/67 [============================>.] - ETA: 0s - loss: 0.0289 - mean_squared_error: 0.0289\n",
      "Epoch 6: val_loss did not improve from 0.05859\n",
      "67/67 [==============================] - 2s 25ms/step - loss: 0.0288 - mean_squared_error: 0.0288 - val_loss: 0.0065 - val_mean_squared_error: 0.0065 - lr: 1.0000e-04\n",
      "Epoch 7/64\n",
      "65/67 [============================>.] - ETA: 0s - loss: 0.0235 - mean_squared_error: 0.0235\n",
      "Epoch 7: val_loss did not improve from 0.05859\n",
      "67/67 [==============================] - 2s 24ms/step - loss: 0.0235 - mean_squared_error: 0.0235 - val_loss: 0.0047 - val_mean_squared_error: 0.0047 - lr: 1.0000e-04\n",
      "Epoch 8/64\n",
      "66/67 [============================>.] - ETA: 0s - loss: 0.0220 - mean_squared_error: 0.0220\n",
      "Epoch 8: val_loss did not improve from 0.05859\n",
      "67/67 [==============================] - 2s 25ms/step - loss: 0.0219 - mean_squared_error: 0.0219 - val_loss: 0.0033 - val_mean_squared_error: 0.0033 - lr: 1.0000e-04\n",
      "Epoch 9/64\n",
      "65/67 [============================>.] - ETA: 0s - loss: 0.0262 - mean_squared_error: 0.0262\n",
      "Epoch 9: val_loss did not improve from 0.05859\n",
      "67/67 [==============================] - 2s 24ms/step - loss: 0.0259 - mean_squared_error: 0.0259 - val_loss: 0.0031 - val_mean_squared_error: 0.0031 - lr: 1.0000e-04\n",
      "Epoch 10/64\n",
      "65/67 [============================>.] - ETA: 0s - loss: 0.0272 - mean_squared_error: 0.0272\n",
      "Epoch 10: val_loss did not improve from 0.05859\n",
      "67/67 [==============================] - 2s 25ms/step - loss: 0.0268 - mean_squared_error: 0.0268 - val_loss: 0.0040 - val_mean_squared_error: 0.0040 - lr: 1.0000e-04\n",
      "Epoch 11/64\n",
      "65/67 [============================>.] - ETA: 0s - loss: 0.0232 - mean_squared_error: 0.0232\n",
      "Epoch 11: val_loss did not improve from 0.05859\n",
      "67/67 [==============================] - 2s 25ms/step - loss: 0.0235 - mean_squared_error: 0.0235 - val_loss: 0.0040 - val_mean_squared_error: 0.0040 - lr: 1.0000e-04\n",
      "Epoch 12/64\n",
      "66/67 [============================>.] - ETA: 0s - loss: 0.0246 - mean_squared_error: 0.0246\n",
      "Epoch 12: val_loss did not improve from 0.05859\n",
      "67/67 [==============================] - 2s 24ms/step - loss: 0.0246 - mean_squared_error: 0.0246 - val_loss: 0.0022 - val_mean_squared_error: 0.0022 - lr: 1.0000e-04\n",
      "Epoch 13/64\n",
      "67/67 [==============================] - ETA: 0s - loss: 0.0235 - mean_squared_error: 0.0235\n",
      "Epoch 13: val_loss did not improve from 0.05859\n",
      "67/67 [==============================] - 2s 22ms/step - loss: 0.0235 - mean_squared_error: 0.0235 - val_loss: 0.0024 - val_mean_squared_error: 0.0024 - lr: 1.0000e-04\n",
      "Epoch 14/64\n",
      "66/67 [============================>.] - ETA: 0s - loss: 0.0261 - mean_squared_error: 0.0261\n",
      "Epoch 14: val_loss did not improve from 0.05859\n",
      "67/67 [==============================] - 1s 22ms/step - loss: 0.0261 - mean_squared_error: 0.0261 - val_loss: 0.0025 - val_mean_squared_error: 0.0025 - lr: 1.0000e-04\n",
      "Epoch 15/64\n",
      "67/67 [==============================] - ETA: 0s - loss: 0.0216 - mean_squared_error: 0.0216\n",
      "Epoch 15: val_loss did not improve from 0.05859\n",
      "67/67 [==============================] - 2s 23ms/step - loss: 0.0216 - mean_squared_error: 0.0216 - val_loss: 0.0020 - val_mean_squared_error: 0.0020 - lr: 1.0000e-04\n",
      "Epoch 16/64\n",
      "67/67 [==============================] - ETA: 0s - loss: 0.0233 - mean_squared_error: 0.0233\n",
      "Epoch 16: val_loss did not improve from 0.05859\n",
      "67/67 [==============================] - 1s 22ms/step - loss: 0.0233 - mean_squared_error: 0.0233 - val_loss: 0.0021 - val_mean_squared_error: 0.0021 - lr: 1.0000e-04\n",
      "Epoch 17/64\n",
      "67/67 [==============================] - ETA: 0s - loss: 0.0236 - mean_squared_error: 0.0236\n",
      "Epoch 17: val_loss did not improve from 0.05859\n",
      "67/67 [==============================] - 2s 23ms/step - loss: 0.0236 - mean_squared_error: 0.0236 - val_loss: 0.0035 - val_mean_squared_error: 0.0035 - lr: 1.0000e-04\n",
      "Epoch 18/64\n",
      "66/67 [============================>.] - ETA: 0s - loss: 0.0234 - mean_squared_error: 0.0234\n",
      "Epoch 18: val_loss did not improve from 0.05859\n",
      "67/67 [==============================] - 2s 23ms/step - loss: 0.0233 - mean_squared_error: 0.0233 - val_loss: 0.0036 - val_mean_squared_error: 0.0036 - lr: 1.0000e-04\n",
      "Epoch 19/64\n",
      "67/67 [==============================] - ETA: 0s - loss: 0.0222 - mean_squared_error: 0.0222\n",
      "Epoch 19: val_loss did not improve from 0.05859\n",
      "67/67 [==============================] - 2s 23ms/step - loss: 0.0222 - mean_squared_error: 0.0222 - val_loss: 0.0014 - val_mean_squared_error: 0.0014 - lr: 1.0000e-04\n",
      "Epoch 20/64\n",
      "67/67 [==============================] - ETA: 0s - loss: 0.0214 - mean_squared_error: 0.0214\n",
      "Epoch 20: val_loss did not improve from 0.05859\n",
      "67/67 [==============================] - 1s 22ms/step - loss: 0.0214 - mean_squared_error: 0.0214 - val_loss: 0.0030 - val_mean_squared_error: 0.0030 - lr: 1.0000e-04\n",
      "Epoch 21/64\n",
      "64/67 [===========================>..] - ETA: 0s - loss: 0.0201 - mean_squared_error: 0.0201\n",
      "Epoch 21: val_loss did not improve from 0.05859\n",
      "67/67 [==============================] - 2s 25ms/step - loss: 0.0203 - mean_squared_error: 0.0203 - val_loss: 0.0030 - val_mean_squared_error: 0.0030 - lr: 1.0000e-04\n",
      "Epoch 22/64\n",
      "65/67 [============================>.] - ETA: 0s - loss: 0.0196 - mean_squared_error: 0.0196\n",
      "Epoch 22: val_loss did not improve from 0.05859\n",
      "67/67 [==============================] - 2s 23ms/step - loss: 0.0198 - mean_squared_error: 0.0198 - val_loss: 0.0020 - val_mean_squared_error: 0.0020 - lr: 1.0000e-04\n",
      "Epoch 23/64\n",
      "67/67 [==============================] - ETA: 0s - loss: 0.0200 - mean_squared_error: 0.0200\n",
      "Epoch 23: val_loss did not improve from 0.05859\n",
      "67/67 [==============================] - 2s 23ms/step - loss: 0.0200 - mean_squared_error: 0.0200 - val_loss: 0.0013 - val_mean_squared_error: 0.0013 - lr: 1.0000e-04\n",
      "Epoch 24/64\n",
      "65/67 [============================>.] - ETA: 0s - loss: 0.0183 - mean_squared_error: 0.0183\n",
      "Epoch 24: val_loss did not improve from 0.05859\n",
      "\n",
      "Epoch 24: ReduceLROnPlateau reducing learning rate to 1e-05.\n",
      "67/67 [==============================] - 1s 22ms/step - loss: 0.0183 - mean_squared_error: 0.0183 - val_loss: 0.0026 - val_mean_squared_error: 0.0026 - lr: 1.0000e-04\n",
      "Epoch 25/64\n",
      "66/67 [============================>.] - ETA: 0s - loss: 0.0178 - mean_squared_error: 0.0178\n",
      "Epoch 25: val_loss did not improve from 0.05859\n",
      "67/67 [==============================] - 1s 22ms/step - loss: 0.0178 - mean_squared_error: 0.0178 - val_loss: 0.0025 - val_mean_squared_error: 0.0025 - lr: 1.0000e-05\n",
      "Epoch 26/64\n",
      "67/67 [==============================] - ETA: 0s - loss: 0.0205 - mean_squared_error: 0.0205\n",
      "Epoch 26: val_loss did not improve from 0.05859\n",
      "67/67 [==============================] - 1s 22ms/step - loss: 0.0205 - mean_squared_error: 0.0205 - val_loss: 0.0025 - val_mean_squared_error: 0.0025 - lr: 1.0000e-05\n",
      "Epoch 27/64\n",
      "67/67 [==============================] - ETA: 0s - loss: 0.0186 - mean_squared_error: 0.0186\n",
      "Epoch 27: val_loss did not improve from 0.05859\n",
      "67/67 [==============================] - 1s 22ms/step - loss: 0.0186 - mean_squared_error: 0.0186 - val_loss: 0.0022 - val_mean_squared_error: 0.0022 - lr: 1.0000e-05\n",
      "Epoch 28/64\n",
      "66/67 [============================>.] - ETA: 0s - loss: 0.0184 - mean_squared_error: 0.0184\n",
      "Epoch 28: val_loss did not improve from 0.05859\n",
      "67/67 [==============================] - 1s 22ms/step - loss: 0.0183 - mean_squared_error: 0.0183 - val_loss: 0.0020 - val_mean_squared_error: 0.0020 - lr: 1.0000e-05\n",
      "Epoch 29/64\n",
      "67/67 [==============================] - ETA: 0s - loss: 0.0226 - mean_squared_error: 0.0226\n",
      "Epoch 29: val_loss did not improve from 0.05859\n",
      "67/67 [==============================] - 1s 22ms/step - loss: 0.0226 - mean_squared_error: 0.0226 - val_loss: 0.0019 - val_mean_squared_error: 0.0019 - lr: 1.0000e-05\n",
      "Epoch 30/64\n",
      "65/67 [============================>.] - ETA: 0s - loss: 0.0185 - mean_squared_error: 0.0185\n",
      "Epoch 30: val_loss did not improve from 0.05859\n",
      "67/67 [==============================] - 1s 22ms/step - loss: 0.0188 - mean_squared_error: 0.0188 - val_loss: 0.0021 - val_mean_squared_error: 0.0021 - lr: 1.0000e-05\n",
      "Epoch 31/64\n",
      "65/67 [============================>.] - ETA: 0s - loss: 0.0207 - mean_squared_error: 0.0207\n",
      "Epoch 31: val_loss did not improve from 0.05859\n",
      "67/67 [==============================] - 2s 23ms/step - loss: 0.0204 - mean_squared_error: 0.0204 - val_loss: 0.0021 - val_mean_squared_error: 0.0021 - lr: 1.0000e-05\n",
      "Epoch 32/64\n",
      "65/67 [============================>.] - ETA: 0s - loss: 0.0241 - mean_squared_error: 0.0241\n",
      "Epoch 32: val_loss did not improve from 0.05859\n",
      "67/67 [==============================] - 1s 22ms/step - loss: 0.0239 - mean_squared_error: 0.0239 - val_loss: 0.0021 - val_mean_squared_error: 0.0021 - lr: 1.0000e-05\n",
      "Epoch 33/64\n",
      "65/67 [============================>.] - ETA: 0s - loss: 0.0206 - mean_squared_error: 0.0206\n",
      "Epoch 33: val_loss did not improve from 0.05859\n",
      "67/67 [==============================] - 1s 21ms/step - loss: 0.0213 - mean_squared_error: 0.0213 - val_loss: 0.0022 - val_mean_squared_error: 0.0022 - lr: 1.0000e-05\n",
      "Epoch 34/64\n",
      "66/67 [============================>.] - ETA: 0s - loss: 0.0194 - mean_squared_error: 0.0194\n",
      "Epoch 34: val_loss did not improve from 0.05859\n",
      "67/67 [==============================] - 1s 22ms/step - loss: 0.0195 - mean_squared_error: 0.0195 - val_loss: 0.0020 - val_mean_squared_error: 0.0020 - lr: 1.0000e-05\n",
      "Epoch 35/64\n",
      "67/67 [==============================] - ETA: 0s - loss: 0.0195 - mean_squared_error: 0.0195\n",
      "Epoch 35: val_loss did not improve from 0.05859\n",
      "67/67 [==============================] - 1s 22ms/step - loss: 0.0195 - mean_squared_error: 0.0195 - val_loss: 0.0020 - val_mean_squared_error: 0.0020 - lr: 1.0000e-05\n",
      "Epoch 36/64\n",
      "64/67 [===========================>..] - ETA: 0s - loss: 0.0189 - mean_squared_error: 0.0189\n",
      "Epoch 36: val_loss did not improve from 0.05859\n",
      "67/67 [==============================] - 1s 22ms/step - loss: 0.0185 - mean_squared_error: 0.0185 - val_loss: 0.0019 - val_mean_squared_error: 0.0019 - lr: 1.0000e-05\n",
      "Epoch 37/64\n",
      "66/67 [============================>.] - ETA: 0s - loss: 0.0205 - mean_squared_error: 0.0205\n",
      "Epoch 37: val_loss did not improve from 0.05859\n",
      "67/67 [==============================] - 1s 22ms/step - loss: 0.0204 - mean_squared_error: 0.0204 - val_loss: 0.0017 - val_mean_squared_error: 0.0017 - lr: 1.0000e-05\n",
      "Epoch 38/64\n",
      "67/67 [==============================] - ETA: 0s - loss: 0.0187 - mean_squared_error: 0.0187\n",
      "Epoch 38: val_loss did not improve from 0.05859\n",
      "67/67 [==============================] - 1s 21ms/step - loss: 0.0187 - mean_squared_error: 0.0187 - val_loss: 0.0017 - val_mean_squared_error: 0.0017 - lr: 1.0000e-05\n",
      "Epoch 39/64\n",
      "66/67 [============================>.] - ETA: 0s - loss: 0.0207 - mean_squared_error: 0.0207\n",
      "Epoch 39: val_loss did not improve from 0.05859\n",
      "67/67 [==============================] - 1s 22ms/step - loss: 0.0206 - mean_squared_error: 0.0206 - val_loss: 0.0019 - val_mean_squared_error: 0.0019 - lr: 1.0000e-05\n",
      "Epoch 40/64\n",
      "66/67 [============================>.] - ETA: 0s - loss: 0.0214 - mean_squared_error: 0.0214\n",
      "Epoch 40: val_loss did not improve from 0.05859\n",
      "67/67 [==============================] - 1s 22ms/step - loss: 0.0216 - mean_squared_error: 0.0216 - val_loss: 0.0018 - val_mean_squared_error: 0.0018 - lr: 1.0000e-05\n",
      "Epoch 41/64\n",
      "67/67 [==============================] - ETA: 0s - loss: 0.0217 - mean_squared_error: 0.0217\n",
      "Epoch 41: val_loss did not improve from 0.05859\n",
      "67/67 [==============================] - 1s 22ms/step - loss: 0.0217 - mean_squared_error: 0.0217 - val_loss: 0.0021 - val_mean_squared_error: 0.0021 - lr: 1.0000e-05\n",
      "Epoch 42/64\n",
      "67/67 [==============================] - ETA: 0s - loss: 0.0195 - mean_squared_error: 0.0195\n",
      "Epoch 42: val_loss did not improve from 0.05859\n",
      "67/67 [==============================] - 1s 22ms/step - loss: 0.0195 - mean_squared_error: 0.0195 - val_loss: 0.0020 - val_mean_squared_error: 0.0020 - lr: 1.0000e-05\n",
      "Epoch 43/64\n",
      "65/67 [============================>.] - ETA: 0s - loss: 0.0174 - mean_squared_error: 0.0174\n",
      "Epoch 43: val_loss did not improve from 0.05859\n",
      "67/67 [==============================] - 1s 22ms/step - loss: 0.0172 - mean_squared_error: 0.0172 - val_loss: 0.0021 - val_mean_squared_error: 0.0021 - lr: 1.0000e-05\n",
      "Epoch 44/64\n",
      "65/67 [============================>.] - ETA: 0s - loss: 0.0208 - mean_squared_error: 0.0208\n",
      "Epoch 44: val_loss did not improve from 0.05859\n",
      "67/67 [==============================] - 1s 22ms/step - loss: 0.0205 - mean_squared_error: 0.0205 - val_loss: 0.0020 - val_mean_squared_error: 0.0020 - lr: 1.0000e-05\n",
      "Epoch 45/64\n",
      "65/67 [============================>.] - ETA: 0s - loss: 0.0180 - mean_squared_error: 0.0180\n",
      "Epoch 45: val_loss did not improve from 0.05859\n",
      "67/67 [==============================] - 1s 21ms/step - loss: 0.0182 - mean_squared_error: 0.0182 - val_loss: 0.0021 - val_mean_squared_error: 0.0021 - lr: 1.0000e-05\n",
      "Epoch 46/64\n",
      "66/67 [============================>.] - ETA: 0s - loss: 0.0206 - mean_squared_error: 0.0206\n",
      "Epoch 46: val_loss did not improve from 0.05859\n",
      "67/67 [==============================] - 2s 24ms/step - loss: 0.0205 - mean_squared_error: 0.0205 - val_loss: 0.0021 - val_mean_squared_error: 0.0021 - lr: 1.0000e-05\n",
      "Epoch 47/64\n",
      "64/67 [===========================>..] - ETA: 0s - loss: 0.0192 - mean_squared_error: 0.0192\n",
      "Epoch 47: val_loss did not improve from 0.05859\n",
      "67/67 [==============================] - 1s 22ms/step - loss: 0.0190 - mean_squared_error: 0.0190 - val_loss: 0.0021 - val_mean_squared_error: 0.0021 - lr: 1.0000e-05\n",
      "Epoch 48/64\n",
      "67/67 [==============================] - ETA: 0s - loss: 0.0177 - mean_squared_error: 0.0177\n",
      "Epoch 48: val_loss did not improve from 0.05859\n",
      "67/67 [==============================] - 1s 22ms/step - loss: 0.0177 - mean_squared_error: 0.0177 - val_loss: 0.0020 - val_mean_squared_error: 0.0020 - lr: 1.0000e-05\n",
      "Epoch 49/64\n",
      "64/67 [===========================>..] - ETA: 0s - loss: 0.0212 - mean_squared_error: 0.0212\n",
      "Epoch 49: val_loss did not improve from 0.05859\n",
      "67/67 [==============================] - 1s 22ms/step - loss: 0.0213 - mean_squared_error: 0.0213 - val_loss: 0.0020 - val_mean_squared_error: 0.0020 - lr: 1.0000e-05\n",
      "Epoch 50/64\n",
      "66/67 [============================>.] - ETA: 0s - loss: 0.0187 - mean_squared_error: 0.0187\n",
      "Epoch 50: val_loss did not improve from 0.05859\n",
      "67/67 [==============================] - 2s 22ms/step - loss: 0.0187 - mean_squared_error: 0.0187 - val_loss: 0.0019 - val_mean_squared_error: 0.0019 - lr: 1.0000e-05\n",
      "Epoch 51/64\n",
      "65/67 [============================>.] - ETA: 0s - loss: 0.0181 - mean_squared_error: 0.0181\n",
      "Epoch 51: val_loss did not improve from 0.05859\n",
      "67/67 [==============================] - 1s 22ms/step - loss: 0.0183 - mean_squared_error: 0.0183 - val_loss: 0.0021 - val_mean_squared_error: 0.0021 - lr: 1.0000e-05\n",
      "Epoch 52/64\n",
      "66/67 [============================>.] - ETA: 0s - loss: 0.0221 - mean_squared_error: 0.0221\n",
      "Epoch 52: val_loss did not improve from 0.05859\n",
      "67/67 [==============================] - 1s 21ms/step - loss: 0.0220 - mean_squared_error: 0.0220 - val_loss: 0.0019 - val_mean_squared_error: 0.0019 - lr: 1.0000e-05\n",
      "Epoch 53/64\n",
      "66/67 [============================>.] - ETA: 0s - loss: 0.0210 - mean_squared_error: 0.0210\n",
      "Epoch 53: val_loss did not improve from 0.05859\n",
      "67/67 [==============================] - 1s 22ms/step - loss: 0.0210 - mean_squared_error: 0.0210 - val_loss: 0.0020 - val_mean_squared_error: 0.0020 - lr: 1.0000e-05\n",
      "Epoch 54/64\n",
      "65/67 [============================>.] - ETA: 0s - loss: 0.0210 - mean_squared_error: 0.0210\n",
      "Epoch 54: val_loss did not improve from 0.05859\n",
      "67/67 [==============================] - 2s 23ms/step - loss: 0.0206 - mean_squared_error: 0.0206 - val_loss: 0.0016 - val_mean_squared_error: 0.0016 - lr: 1.0000e-05\n",
      "Epoch 55/64\n",
      "65/67 [============================>.] - ETA: 0s - loss: 0.0174 - mean_squared_error: 0.0174\n",
      "Epoch 55: val_loss did not improve from 0.05859\n",
      "67/67 [==============================] - 1s 22ms/step - loss: 0.0179 - mean_squared_error: 0.0179 - val_loss: 0.0019 - val_mean_squared_error: 0.0019 - lr: 1.0000e-05\n",
      "Epoch 56/64\n",
      "67/67 [==============================] - ETA: 0s - loss: 0.0173 - mean_squared_error: 0.0173\n",
      "Epoch 56: val_loss did not improve from 0.05859\n",
      "67/67 [==============================] - 1s 22ms/step - loss: 0.0173 - mean_squared_error: 0.0173 - val_loss: 0.0017 - val_mean_squared_error: 0.0017 - lr: 1.0000e-05\n",
      "Epoch 57/64\n",
      "65/67 [============================>.] - ETA: 0s - loss: 0.0188 - mean_squared_error: 0.0188\n",
      "Epoch 57: val_loss did not improve from 0.05859\n",
      "67/67 [==============================] - 1s 22ms/step - loss: 0.0191 - mean_squared_error: 0.0191 - val_loss: 0.0018 - val_mean_squared_error: 0.0018 - lr: 1.0000e-05\n",
      "Epoch 58/64\n",
      "65/67 [============================>.] - ETA: 0s - loss: 0.0177 - mean_squared_error: 0.0177\n",
      "Epoch 58: val_loss did not improve from 0.05859\n",
      "67/67 [==============================] - 1s 22ms/step - loss: 0.0177 - mean_squared_error: 0.0177 - val_loss: 0.0018 - val_mean_squared_error: 0.0018 - lr: 1.0000e-05\n",
      "Epoch 59/64\n",
      "65/67 [============================>.] - ETA: 0s - loss: 0.0219 - mean_squared_error: 0.0219\n",
      "Epoch 59: val_loss did not improve from 0.05859\n",
      "67/67 [==============================] - 2s 23ms/step - loss: 0.0225 - mean_squared_error: 0.0225 - val_loss: 0.0019 - val_mean_squared_error: 0.0019 - lr: 1.0000e-05\n",
      "Epoch 60/64\n",
      "65/67 [============================>.] - ETA: 0s - loss: 0.0190 - mean_squared_error: 0.0190\n",
      "Epoch 60: val_loss did not improve from 0.05859\n",
      "67/67 [==============================] - 1s 22ms/step - loss: 0.0188 - mean_squared_error: 0.0188 - val_loss: 0.0018 - val_mean_squared_error: 0.0018 - lr: 1.0000e-05\n",
      "Epoch 61/64\n",
      "66/67 [============================>.] - ETA: 0s - loss: 0.0203 - mean_squared_error: 0.0203\n",
      "Epoch 61: val_loss did not improve from 0.05859\n",
      "67/67 [==============================] - 1s 22ms/step - loss: 0.0202 - mean_squared_error: 0.0202 - val_loss: 0.0021 - val_mean_squared_error: 0.0021 - lr: 1.0000e-05\n",
      "Epoch 62/64\n",
      "65/67 [============================>.] - ETA: 0s - loss: 0.0218 - mean_squared_error: 0.0218\n",
      "Epoch 62: val_loss did not improve from 0.05859\n",
      "67/67 [==============================] - 1s 22ms/step - loss: 0.0217 - mean_squared_error: 0.0217 - val_loss: 0.0022 - val_mean_squared_error: 0.0022 - lr: 1.0000e-05\n",
      "Epoch 63/64\n",
      "65/67 [============================>.] - ETA: 0s - loss: 0.0183 - mean_squared_error: 0.0183\n",
      "Epoch 63: val_loss did not improve from 0.05859\n",
      "67/67 [==============================] - 1s 22ms/step - loss: 0.0188 - mean_squared_error: 0.0188 - val_loss: 0.0017 - val_mean_squared_error: 0.0017 - lr: 1.0000e-05\n",
      "Epoch 64/64\n",
      "65/67 [============================>.] - ETA: 0s - loss: 0.0186 - mean_squared_error: 0.0186\n",
      "Epoch 64: val_loss did not improve from 0.05859\n",
      "67/67 [==============================] - 1s 22ms/step - loss: 0.0187 - mean_squared_error: 0.0187 - val_loss: 0.0020 - val_mean_squared_error: 0.0020 - lr: 1.0000e-05\n"
     ]
    }
   ],
   "source": [
    "history = model.fit(trainX, trainY, epochs = 64, batch_size = 64, callbacks = [checkpoint, lr_reduce], validation_data = (testX, testY))"
   ]
  },
  {
   "cell_type": "code",
   "execution_count": 103,
   "id": "81ec0a3c-c108-407d-9b32-a7651dc906d2",
   "metadata": {},
   "outputs": [
    {
     "name": "stdout",
     "output_type": "stream",
     "text": [
      "34/34 [==============================] - 0s 6ms/step\n"
     ]
    },
    {
     "data": {
      "text/plain": [
       "array([[0.34945336],\n",
       "       [0.34817708],\n",
       "       [0.34769487],\n",
       "       [0.345679  ],\n",
       "       [0.34374198],\n",
       "       [0.34440294],\n",
       "       [0.3459979 ],\n",
       "       [0.34224284],\n",
       "       [0.33510184],\n",
       "       [0.33248717]], dtype=float32)"
      ]
     },
     "metadata": {},
     "output_type": "display_data"
    }
   ],
   "source": [
    "test_pred = model.predict(testX)\n",
    "display(test_pred[:10])"
   ]
  },
  {
   "cell_type": "code",
   "execution_count": 104,
   "id": "92dba819-f3db-4bd6-8db2-b0930cfacc95",
   "metadata": {},
   "outputs": [
    {
     "data": {
      "text/plain": [
       "array([[491.7133 ],\n",
       "       [490.5104 ],\n",
       "       [490.0559 ],\n",
       "       [488.1559 ],\n",
       "       [486.33026],\n",
       "       [486.95322],\n",
       "       [488.45648],\n",
       "       [484.91733],\n",
       "       [478.18686],\n",
       "       [475.7225 ]], dtype=float32)"
      ]
     },
     "metadata": {},
     "output_type": "display_data"
    }
   ],
   "source": [
    "test_pred = scaler.inverse_transform(test_pred)\n",
    "display(test_pred[:10])"
   ]
  },
  {
   "cell_type": "code",
   "execution_count": 105,
   "id": "285ca877-21cf-4c2c-9224-0db81625291f",
   "metadata": {},
   "outputs": [
    {
     "data": {
      "text/plain": [
       "array([[482.4 ],\n",
       "       [482.95],\n",
       "       [479.  ],\n",
       "       [477.9 ],\n",
       "       [479.75],\n",
       "       [481.5 ],\n",
       "       [473.7 ],\n",
       "       [465.55],\n",
       "       [465.75],\n",
       "       [458.  ]])"
      ]
     },
     "metadata": {},
     "output_type": "display_data"
    }
   ],
   "source": [
    "testY = testY.reshape(testY.shape[0], 1)\n",
    "testY = scaler.inverse_transform(testY)\n",
    "display(testY[:10])"
   ]
  },
  {
   "cell_type": "code",
   "execution_count": 131,
   "id": "3f18b8fd-d3e8-4eed-a37b-9a6cab0b0b87",
   "metadata": {},
   "outputs": [
    {
     "data": {
      "text/plain": [
       "0.7413300274814386"
      ]
     },
     "execution_count": 131,
     "metadata": {},
     "output_type": "execute_result"
    }
   ],
   "source": [
    "from sklearn.metrics import r2_score\n",
    "r2_score(testY, test_pred)\n"
   ]
  },
  {
   "cell_type": "code",
   "execution_count": 107,
   "id": "9aa47a9e-bf7d-4924-8e97-b1b66b161a8d",
   "metadata": {},
   "outputs": [
    {
     "name": "stdout",
     "output_type": "stream",
     "text": [
      "Red - Predicted Stock Prices, Blue - Actual Stock Prices\n"
     ]
    },
    {
     "data": {
      "image/png": "[encoded data removed]",
      "text/plain": [
       "<Figure size 1500x700 with 1 Axes>"
      ]
     },
     "metadata": {},
     "output_type": "display_data"
    }
   ],
   "source": [
    "print(\"Red - Predicted Stock Prices, Blue - Actual Stock Prices\")\n",
    "plt.rcParams[\"figure.figsize\"] = (15, 7)\n",
    "plt.plot(testY, 'b', label = 'Actual Price')\n",
    "plt.plot(test_pred, 'r', label = 'Predicated Price')\n",
    "plt.xlabel('Time')\n",
    "plt.ylabel('Stock Prices')\n",
    "plt.title('Check the accuracy of the model with time')\n",
    "plt.grid(True)\n",
    "plt.show()"
   ]
  },
  {
   "cell_type": "code",
   "execution_count": 108,
   "id": "0089b895-50b6-4ccb-9cae-d908c44f83ef",
   "metadata": {},
   "outputs": [
    {
     "name": "stdout",
     "output_type": "stream",
     "text": [
      "133/133 [==============================] - 1s 6ms/step\n",
      "Display Accuracy Training Data\n"
     ]
    },
    {
     "data": {
      "text/plain": [
       "0.9900968837256939"
      ]
     },
     "metadata": {},
     "output_type": "display_data"
    }
   ],
   "source": [
    "train_pred = model.predict(trainX)\n",
    "train_pred = scaler.inverse_transform(train_pred)\n",
    "trainY = trainY.reshape(trainY.shape[0], 1)\n",
    "trainY = scaler.inverse_transform(trainY)\n",
    "print('Display Accuracy Training Data')\n",
    "display(r2_score(trainY, train_pred))"
   ]
  },
  {
   "cell_type": "code",
   "execution_count": 201,
   "id": "0a11b2cc-a787-4129-80f5-40d41cb9a310",
   "metadata": {},
   "outputs": [
    {
     "name": "stdout",
     "output_type": "stream",
     "text": [
      "Red - Predicted Stock Prices, Blue - Actual Stock Prices\n"
     ]
    },
    {
     "data": {
      "image/png": "[encoded data removed]",
      "text/plain": [
       "<Figure size 1500x700 with 1 Axes>"
      ]
     },
     "metadata": {},
     "output_type": "display_data"
    }
   ],
   "source": [
    "print(\"Red - Predicted Stock Prices, Blue - Actual Stock Prices\")\n",
    "plt.rcParams[\"figure.figsize\"] = (15, 7)\n",
    "plt.plot(trainY, 'b')\n",
    "plt.plot(train_pred, 'r')\n",
    "plt.xlabel('Time')\n",
    "plt.ylabel('Stock Prices')\n",
    "plt.title('Check the accuracy of the model with time')\n",
    "plt.grid(True)\n",
    "plt.show()"
   ]
  },
  {
   "cell_type": "code",
   "execution_count": 109,
   "id": "d3a5e350-7c95-4cdf-b7df-9bc3b2e49fc4",
   "metadata": {},
   "outputs": [
    {
     "name": "stdout",
     "output_type": "stream",
     "text": [
      "166/166 [==============================] - 1s 6ms/step\n",
      "Display Accuracy Training Data\n"
     ]
    },
    {
     "data": {
      "text/plain": [
       "0.9903204607082952"
      ]
     },
     "metadata": {},
     "output_type": "display_data"
    }
   ],
   "source": [
    "stocks_pred = model.predict(stocksX)\n",
    "stocks_pred = scaler.inverse_transform(stocks_pred)\n",
    "stocksY = stocksY.reshape(stocksY.shape[0], 1)\n",
    "stocksY = scaler.inverse_transform(stocksY)\n",
    "print('Display Accuracy Training Data')\n",
    "display(r2_score(stocksY, stocks_pred))"
   ]
  },
  {
   "cell_type": "code",
   "execution_count": 110,
   "id": "1a86b02e-55fa-4fc7-ad7c-c38d2f473258",
   "metadata": {},
   "outputs": [
    {
     "data": {
      "image/png": "[encoded data removed]",
      "text/plain": [
       "<Figure size 1500x700 with 1 Axes>"
      ]
     },
     "metadata": {},
     "output_type": "display_data"
    }
   ],
   "source": [
    "plt.rcParams['figure.figsize'] = (15, 7)\n",
    "plt.plot(stocksY, 'b')\n",
    "plt.plot(stocks_pred, 'r')\n",
    "plt.xlabel('Time')\n",
    "plt.ylabel('Stocks Prices')\n",
    "plt.title('Check the accuracy of the model with time')\n",
    "plt.grid(True)\n",
    "plt.show()"
   ]
  },
  {
   "cell_type": "code",
   "execution_count": 115,
   "id": "81eab65f-23b1-4591-8397-88150bcf1062",
   "metadata": {},
   "outputs": [
    {
     "data": {
      "text/html": [
       "<div>\n",
       "<style scoped>\n",
       "    .dataframe tbody tr th:only-of-type {\n",
       "        vertical-align: middle;\n",
       "    }\n",
       "\n",
       "    .dataframe tbody tr th {\n",
       "        vertical-align: top;\n",
       "    }\n",
       "\n",
       "    .dataframe thead th {\n",
       "        text-align: right;\n",
       "    }\n",
       "</style>\n",
       "<table border=\"1\" class=\"dataframe\">\n",
       "  <thead>\n",
       "    <tr style=\"text-align: right;\">\n",
       "      <th></th>\n",
       "      <th>Date</th>\n",
       "      <th>Symbol</th>\n",
       "      <th>Open</th>\n",
       "      <th>High</th>\n",
       "      <th>Low</th>\n",
       "      <th>Close</th>\n",
       "      <th>Volume</th>\n",
       "      <th>Close_Prediction</th>\n",
       "    </tr>\n",
       "  </thead>\n",
       "  <tbody>\n",
       "    <tr>\n",
       "      <th>0</th>\n",
       "      <td>05-01-2000</td>\n",
       "      <td>WIPRO</td>\n",
       "      <td>2942.15</td>\n",
       "      <td>3177.55</td>\n",
       "      <td>2715.00</td>\n",
       "      <td>2990.10</td>\n",
       "      <td>132297</td>\n",
       "      <td>2935.289795</td>\n",
       "    </tr>\n",
       "    <tr>\n",
       "      <th>1</th>\n",
       "      <td>06-01-2000</td>\n",
       "      <td>WIPRO</td>\n",
       "      <td>3144.70</td>\n",
       "      <td>3183.00</td>\n",
       "      <td>2790.00</td>\n",
       "      <td>2932.25</td>\n",
       "      <td>72840</td>\n",
       "      <td>3056.916748</td>\n",
       "    </tr>\n",
       "    <tr>\n",
       "      <th>2</th>\n",
       "      <td>07-01-2000</td>\n",
       "      <td>WIPRO</td>\n",
       "      <td>2751.00</td>\n",
       "      <td>2751.00</td>\n",
       "      <td>2697.70</td>\n",
       "      <td>2697.70</td>\n",
       "      <td>10110</td>\n",
       "      <td>3033.146240</td>\n",
       "    </tr>\n",
       "    <tr>\n",
       "      <th>3</th>\n",
       "      <td>10-01-2000</td>\n",
       "      <td>WIPRO</td>\n",
       "      <td>2697.70</td>\n",
       "      <td>2913.50</td>\n",
       "      <td>2612.00</td>\n",
       "      <td>2701.35</td>\n",
       "      <td>40382</td>\n",
       "      <td>2838.012939</td>\n",
       "    </tr>\n",
       "    <tr>\n",
       "      <th>4</th>\n",
       "      <td>11-01-2000</td>\n",
       "      <td>WIPRO</td>\n",
       "      <td>2734.00</td>\n",
       "      <td>2789.00</td>\n",
       "      <td>2485.25</td>\n",
       "      <td>2485.45</td>\n",
       "      <td>46178</td>\n",
       "      <td>2748.299316</td>\n",
       "    </tr>\n",
       "    <tr>\n",
       "      <th>...</th>\n",
       "      <td>...</td>\n",
       "      <td>...</td>\n",
       "      <td>...</td>\n",
       "      <td>...</td>\n",
       "      <td>...</td>\n",
       "      <td>...</td>\n",
       "      <td>...</td>\n",
       "      <td>...</td>\n",
       "    </tr>\n",
       "    <tr>\n",
       "      <th>5299</th>\n",
       "      <td>26-04-2021</td>\n",
       "      <td>WIPRO</td>\n",
       "      <td>479.40</td>\n",
       "      <td>483.85</td>\n",
       "      <td>477.00</td>\n",
       "      <td>480.30</td>\n",
       "      <td>9314644</td>\n",
       "      <td>487.593567</td>\n",
       "    </tr>\n",
       "    <tr>\n",
       "      <th>5300</th>\n",
       "      <td>27-04-2021</td>\n",
       "      <td>WIPRO</td>\n",
       "      <td>481.40</td>\n",
       "      <td>487.00</td>\n",
       "      <td>481.00</td>\n",
       "      <td>485.05</td>\n",
       "      <td>7209467</td>\n",
       "      <td>486.546478</td>\n",
       "    </tr>\n",
       "    <tr>\n",
       "      <th>5301</th>\n",
       "      <td>28-04-2021</td>\n",
       "      <td>WIPRO</td>\n",
       "      <td>485.85</td>\n",
       "      <td>493.20</td>\n",
       "      <td>481.25</td>\n",
       "      <td>489.30</td>\n",
       "      <td>9615534</td>\n",
       "      <td>490.494537</td>\n",
       "    </tr>\n",
       "    <tr>\n",
       "      <th>5302</th>\n",
       "      <td>29-04-2021</td>\n",
       "      <td>WIPRO</td>\n",
       "      <td>492.70</td>\n",
       "      <td>492.80</td>\n",
       "      <td>485.70</td>\n",
       "      <td>489.85</td>\n",
       "      <td>7641133</td>\n",
       "      <td>494.231720</td>\n",
       "    </tr>\n",
       "    <tr>\n",
       "      <th>5303</th>\n",
       "      <td>30-04-2021</td>\n",
       "      <td>WIPRO</td>\n",
       "      <td>491.50</td>\n",
       "      <td>511.80</td>\n",
       "      <td>489.30</td>\n",
       "      <td>492.75</td>\n",
       "      <td>29115571</td>\n",
       "      <td>495.867065</td>\n",
       "    </tr>\n",
       "  </tbody>\n",
       "</table>\n",
       "<p>5304 rows × 8 columns</p>\n",
       "</div>"
      ],
      "text/plain": [
       "            Date Symbol     Open     High      Low    Close    Volume  \\\n",
       "0     05-01-2000  WIPRO  2942.15  3177.55  2715.00  2990.10    132297   \n",
       "1     06-01-2000  WIPRO  3144.70  3183.00  2790.00  2932.25     72840   \n",
       "2     07-01-2000  WIPRO  2751.00  2751.00  2697.70  2697.70     10110   \n",
       "3     10-01-2000  WIPRO  2697.70  2913.50  2612.00  2701.35     40382   \n",
       "4     11-01-2000  WIPRO  2734.00  2789.00  2485.25  2485.45     46178   \n",
       "...          ...    ...      ...      ...      ...      ...       ...   \n",
       "5299  26-04-2021  WIPRO   479.40   483.85   477.00   480.30   9314644   \n",
       "5300  27-04-2021  WIPRO   481.40   487.00   481.00   485.05   7209467   \n",
       "5301  28-04-2021  WIPRO   485.85   493.20   481.25   489.30   9615534   \n",
       "5302  29-04-2021  WIPRO   492.70   492.80   485.70   489.85   7641133   \n",
       "5303  30-04-2021  WIPRO   491.50   511.80   489.30   492.75  29115571   \n",
       "\n",
       "      Close_Prediction  \n",
       "0          2935.289795  \n",
       "1          3056.916748  \n",
       "2          3033.146240  \n",
       "3          2838.012939  \n",
       "4          2748.299316  \n",
       "...                ...  \n",
       "5299        487.593567  \n",
       "5300        486.546478  \n",
       "5301        490.494537  \n",
       "5302        494.231720  \n",
       "5303        495.867065  \n",
       "\n",
       "[5304 rows x 8 columns]"
      ]
     },
     "metadata": {},
     "output_type": "display_data"
    }
   ],
   "source": [
    "results = df[df.Symbol.isin(['WIPRO'])]\n",
    "results = results[2:]\n",
    "results = results.reset_index(drop = True)\n",
    "df_stocks_pred = pd.DataFrame(stocks_pred, columns = ['Close_Prediction'])\n",
    "results = pd.concat([results, df_stocks_pred], axis = 1)\n",
    "display(results)"
   ]
  },
  {
   "cell_type": "code",
   "execution_count": 116,
   "id": "028dc5d2-d23b-44c7-ac3f-0f6c5625b5fb",
   "metadata": {},
   "outputs": [],
   "source": [
    "results.to_csv('result.csv')"
   ]
  }
 ],
 "metadata": {
  "kernelspec": {
   "display_name": "Python 3 (ipykernel)",
   "language": "python",
   "name": "python3"
  },
  "language_info": {
   "codemirror_mode": {
    "name": "ipython",
    "version": 3
   },
   "file_extension": ".py",
   "mimetype": "text/x-python",
   "name": "python",
   "nbconvert_exporter": "python",
   "pygments_lexer": "ipython3",
   "version": "3.10.13"
  }
 },
 "nbformat": 4,
 "nbformat_minor": 5
}
